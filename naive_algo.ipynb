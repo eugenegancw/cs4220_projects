{
 "cells": [
  {
   "cell_type": "code",
   "execution_count": 2,
   "metadata": {},
   "outputs": [],
   "source": [
    "import pandas as pd\n",
    "import numpy as np\n",
    "from sklearn.metrics import f1_score"
   ]
  },
  {
   "cell_type": "code",
   "execution_count": 18,
   "metadata": {},
   "outputs": [],
   "source": [
    "curr_folder = 'real1'\n",
    "csv_path = f'/Users/ngocanh/Documents/Master/in progress/CS4220/scripts/{curr_folder}_final.csv'\n",
    "NUM_TOP = 2\n",
    "algo_dict = {\n",
    "    'mutect2': 'FILTER_Mutect2',\n",
    "    'varscan': 'FILTER_Varscan',\n",
    "    'vardict': 'FILTER_Vardict',\n",
    "    'freebayes': 'FILTER_Freebayes'\n",
    "}"
   ]
  },
  {
   "cell_type": "code",
   "execution_count": 19,
   "metadata": {},
   "outputs": [
    {
     "name": "stderr",
     "output_type": "stream",
     "text": [
      "/var/folders/_0/ztgrcgnj1bd__vhjt7plwd2w0000gn/T/ipykernel_30267/3912418589.py:1: DtypeWarning: Columns (1,52) have mixed types. Specify dtype option on import or set low_memory=False.\n",
      "  df = pd.read_csv(csv_path, delimiter='\\t')\n"
     ]
    }
   ],
   "source": [
    "df = pd.read_csv(csv_path, delimiter='\\t')\n"
   ]
  },
  {
   "cell_type": "code",
   "execution_count": 37,
   "metadata": {},
   "outputs": [],
   "source": [
    "def get_f1(df, pred_col, true_col):\n",
    "    y_pred = df[pred_col].to_numpy()\n",
    "    y_true = df[true_col].to_numpy()\n",
    "    return f1_score(y_true, y_pred)\n",
    "    \n",
    "def naive_algo_1(df):\n",
    "    df['count_num_true'] = df[algo_dict.values()].sum(axis=1)\n",
    "    df['pred_by_at_least_2'] = df.apply(lambda row: True if row['count_num_true'] > 1 else False, axis=1)\n",
    "    print(\"\\nF1 output from at least 2 algorithms:\" )\n",
    "    print(get_f1(df, 'pred_by_at_least_2', 'is_snv'))\n",
    "\n",
    "def naive_algo_2(df):\n",
    "    f1_score_dict = {}\n",
    "    for algo, col in algo_dict.items():\n",
    "        f1_score_dict[col] = get_f1(df, col, 'is_snv')\n",
    "\n",
    "    print(\"F1 output from individual algos:\")\n",
    "    print(f1_score_dict)\n",
    "    top_cols = dict(sorted(f1_score_dict.items(), key = lambda x: x[1], reverse = True)[:NUM_TOP])\n",
    "    df['pred_by_top_2'] = df.apply(lambda row: all(row[col] for col in top_cols), axis=1)\n",
    "    print(f\"\\nF1 output from top 2 algorithms: {top_cols.keys()}\" )\n",
    "    print(get_f1(df, 'pred_by_top_2', 'is_snv'))\n"
   ]
  },
  {
   "cell_type": "code",
   "execution_count": 38,
   "metadata": {},
   "outputs": [
    {
     "name": "stdout",
     "output_type": "stream",
     "text": [
      "F1 output from individual algos:\n",
      "{'FILTER_Mutect2': 0.3572997510616488, 'FILTER_Varscan': 0.013910441143870538, 'FILTER_Vardict': 0.26708727655099895, 'FILTER_Freebayes': 0.29435327561700475}\n",
      "\n",
      "F1 output from top 2 algorithms: dict_keys(['FILTER_Mutect2', 'FILTER_Freebayes'])\n",
      "0.8201117318435754\n"
     ]
    }
   ],
   "source": [
    "naive_algo_2(df)"
   ]
  },
  {
   "cell_type": "code",
   "execution_count": 39,
   "metadata": {},
   "outputs": [
    {
     "name": "stdout",
     "output_type": "stream",
     "text": [
      "\n",
      "F1 output from at least 2 algorithms:\n",
      "0.5571658615136876\n"
     ]
    }
   ],
   "source": [
    "naive_algo_1(df)"
   ]
  },
  {
   "cell_type": "code",
   "execution_count": null,
   "metadata": {},
   "outputs": [],
   "source": []
  }
 ],
 "metadata": {
  "kernelspec": {
   "display_name": "cs4220p1",
   "language": "python",
   "name": "cs4220p1"
  },
  "language_info": {
   "codemirror_mode": {
    "name": "ipython",
    "version": 3
   },
   "file_extension": ".py",
   "mimetype": "text/x-python",
   "name": "python",
   "nbconvert_exporter": "python",
   "pygments_lexer": "ipython3",
   "version": "3.12.1"
  },
  "orig_nbformat": 4
 },
 "nbformat": 4,
 "nbformat_minor": 2
}
