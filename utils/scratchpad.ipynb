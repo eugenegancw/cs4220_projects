{
 "cells": [
  {
   "cell_type": "code",
   "execution_count": 52,
   "metadata": {},
   "outputs": [],
   "source": [
    "import pandas as pd\n",
    "import numpy as np\n",
    "import seaborn as sns\n",
    "import matplotlib.pyplot as plt\n",
    "from sklearn.metrics import precision_recall_fscore_support, confusion_matrix, ConfusionMatrixDisplay\n",
    "\n"
   ]
  },
  {
   "cell_type": "code",
   "execution_count": 7,
   "metadata": {},
   "outputs": [
    {
     "name": "stderr",
     "output_type": "stream",
     "text": [
      "/var/folders/h7/fr7g30_x5x12d68ww_s6w2_m0000gn/T/ipykernel_88053/1854008650.py:1: DtypeWarning: Columns (1,52) have mixed types. Specify dtype option on import or set low_memory=False.\n",
      "  df = pd.read_csv(\"/Users/melloo21/Desktop/NUS Items/CS4220/cs4220_projects/data/raw_csv/real1_final.csv\",\n"
     ]
    }
   ],
   "source": [
    "df = pd.read_csv(\n",
    "    \"/Users/melloo21/Desktop/NUS Items/CS4220/cs4220_projects/data/raw_csv/real1_final.csv\",\n",
    "    delimiter='\\t'\n",
    "    )"
   ]
  },
  {
   "cell_type": "code",
   "execution_count": 22,
   "metadata": {},
   "outputs": [],
   "source": [
    "filter_list = [elem for elem in df.columns if \"FILTER\" in elem]\n",
    "df_niave = df[filter_list + ['is_snv']]\n",
    "df_niave = df_niave.astype('int32')\n",
    "# 1 is True and 0 is false\n",
    "df_niave[\"sum_of_filters\"] = df_niave[filter_list].sum(axis=1)\n",
    "df_niave[\"niave_method_1\"] = np.where(df_niave[\"sum_of_filters\"] >= 2, 1, 0)"
   ]
  },
  {
   "cell_type": "code",
   "execution_count": 23,
   "metadata": {},
   "outputs": [
    {
     "data": {
      "text/html": [
       "<div>\n",
       "<style scoped>\n",
       "    .dataframe tbody tr th:only-of-type {\n",
       "        vertical-align: middle;\n",
       "    }\n",
       "\n",
       "    .dataframe tbody tr th {\n",
       "        vertical-align: top;\n",
       "    }\n",
       "\n",
       "    .dataframe thead th {\n",
       "        text-align: right;\n",
       "    }\n",
       "</style>\n",
       "<table border=\"1\" class=\"dataframe\">\n",
       "  <thead>\n",
       "    <tr style=\"text-align: right;\">\n",
       "      <th></th>\n",
       "      <th>FILTER_Mutect2</th>\n",
       "      <th>FILTER_Freebayes</th>\n",
       "      <th>FILTER_Vardict</th>\n",
       "      <th>FILTER_Varscan</th>\n",
       "      <th>is_snv</th>\n",
       "      <th>sum_of_filters</th>\n",
       "      <th>niave_method_1</th>\n",
       "    </tr>\n",
       "  </thead>\n",
       "  <tbody>\n",
       "    <tr>\n",
       "      <th>16</th>\n",
       "      <td>1</td>\n",
       "      <td>0</td>\n",
       "      <td>0</td>\n",
       "      <td>1</td>\n",
       "      <td>0</td>\n",
       "      <td>2</td>\n",
       "      <td>1</td>\n",
       "    </tr>\n",
       "    <tr>\n",
       "      <th>17</th>\n",
       "      <td>1</td>\n",
       "      <td>0</td>\n",
       "      <td>0</td>\n",
       "      <td>1</td>\n",
       "      <td>0</td>\n",
       "      <td>2</td>\n",
       "      <td>1</td>\n",
       "    </tr>\n",
       "    <tr>\n",
       "      <th>19</th>\n",
       "      <td>1</td>\n",
       "      <td>0</td>\n",
       "      <td>1</td>\n",
       "      <td>1</td>\n",
       "      <td>0</td>\n",
       "      <td>3</td>\n",
       "      <td>1</td>\n",
       "    </tr>\n",
       "    <tr>\n",
       "      <th>29</th>\n",
       "      <td>1</td>\n",
       "      <td>0</td>\n",
       "      <td>0</td>\n",
       "      <td>1</td>\n",
       "      <td>0</td>\n",
       "      <td>2</td>\n",
       "      <td>1</td>\n",
       "    </tr>\n",
       "    <tr>\n",
       "      <th>86</th>\n",
       "      <td>0</td>\n",
       "      <td>1</td>\n",
       "      <td>0</td>\n",
       "      <td>1</td>\n",
       "      <td>0</td>\n",
       "      <td>2</td>\n",
       "      <td>1</td>\n",
       "    </tr>\n",
       "    <tr>\n",
       "      <th>...</th>\n",
       "      <td>...</td>\n",
       "      <td>...</td>\n",
       "      <td>...</td>\n",
       "      <td>...</td>\n",
       "      <td>...</td>\n",
       "      <td>...</td>\n",
       "      <td>...</td>\n",
       "    </tr>\n",
       "    <tr>\n",
       "      <th>49152</th>\n",
       "      <td>0</td>\n",
       "      <td>0</td>\n",
       "      <td>1</td>\n",
       "      <td>1</td>\n",
       "      <td>0</td>\n",
       "      <td>2</td>\n",
       "      <td>1</td>\n",
       "    </tr>\n",
       "    <tr>\n",
       "      <th>49196</th>\n",
       "      <td>1</td>\n",
       "      <td>0</td>\n",
       "      <td>1</td>\n",
       "      <td>0</td>\n",
       "      <td>0</td>\n",
       "      <td>2</td>\n",
       "      <td>1</td>\n",
       "    </tr>\n",
       "    <tr>\n",
       "      <th>49205</th>\n",
       "      <td>1</td>\n",
       "      <td>0</td>\n",
       "      <td>1</td>\n",
       "      <td>0</td>\n",
       "      <td>0</td>\n",
       "      <td>2</td>\n",
       "      <td>1</td>\n",
       "    </tr>\n",
       "    <tr>\n",
       "      <th>49209</th>\n",
       "      <td>1</td>\n",
       "      <td>0</td>\n",
       "      <td>1</td>\n",
       "      <td>0</td>\n",
       "      <td>0</td>\n",
       "      <td>2</td>\n",
       "      <td>1</td>\n",
       "    </tr>\n",
       "    <tr>\n",
       "      <th>49335</th>\n",
       "      <td>1</td>\n",
       "      <td>0</td>\n",
       "      <td>0</td>\n",
       "      <td>1</td>\n",
       "      <td>0</td>\n",
       "      <td>2</td>\n",
       "      <td>1</td>\n",
       "    </tr>\n",
       "  </tbody>\n",
       "</table>\n",
       "<p>3028 rows × 7 columns</p>\n",
       "</div>"
      ],
      "text/plain": [
       "       FILTER_Mutect2  FILTER_Freebayes  FILTER_Vardict  FILTER_Varscan  \\\n",
       "16                  1                 0               0               1   \n",
       "17                  1                 0               0               1   \n",
       "19                  1                 0               1               1   \n",
       "29                  1                 0               0               1   \n",
       "86                  0                 1               0               1   \n",
       "...               ...               ...             ...             ...   \n",
       "49152               0                 0               1               1   \n",
       "49196               1                 0               1               0   \n",
       "49205               1                 0               1               0   \n",
       "49209               1                 0               1               0   \n",
       "49335               1                 0               0               1   \n",
       "\n",
       "       is_snv  sum_of_filters  niave_method_1  \n",
       "16          0               2               1  \n",
       "17          0               2               1  \n",
       "19          0               3               1  \n",
       "29          0               2               1  \n",
       "86          0               2               1  \n",
       "...       ...             ...             ...  \n",
       "49152       0               2               1  \n",
       "49196       0               2               1  \n",
       "49205       0               2               1  \n",
       "49209       0               2               1  \n",
       "49335       0               2               1  \n",
       "\n",
       "[3028 rows x 7 columns]"
      ]
     },
     "metadata": {},
     "output_type": "display_data"
    }
   ],
   "source": [
    "display(df_niave[df_niave.niave_method_1 == 1])"
   ]
  },
  {
   "cell_type": "code",
   "execution_count": 26,
   "metadata": {},
   "outputs": [],
   "source": [
    "y_true = np.array(df_niave.is_snv)\n",
    "y_pred = np.array(df_niave.niave_method_1)"
   ]
  },
  {
   "cell_type": "code",
   "execution_count": 63,
   "metadata": {},
   "outputs": [
    {
     "name": "stdout",
     "output_type": "stream",
     "text": [
      " Macro Precision :  0.70, Recall :  0.94, F1 :  0.77\n",
      " Macro Precision :  0.96, Recall :  0.96, F1 :  0.96\n",
      " Macro Precision :  0.98, Recall :  0.96, F1 :  0.97\n"
     ]
    }
   ],
   "source": [
    "# Returns precision/recall/f1 score\n",
    "\n",
    "# 'micro':\n",
    "# Calculate metrics globally by counting the total true positives, false negatives and false positives.\n",
    "# 'macro':\n",
    "# Calculate metrics for each label, and find their unweighted mean. This does not take label imbalance into account.\n",
    "# 'weighted':\n",
    "# Calculate metrics for each label, and find their average weighted by support (the number of true instances for each label). This alters ‘macro’ to account for label imbalance; it can result in an F-score that is not between precision and recall.\n",
    "\n",
    "print(\" Macro Precision : %5.2f, Recall : %5.2f, F1 : %5.2f\" % precision_recall_fscore_support(y_true, y_pred, average='macro')[0:3] )\n",
    "print(\" Macro Precision : %5.2f, Recall : %5.2f, F1 : %5.2f\" % precision_recall_fscore_support(y_true, y_pred, average='micro')[0:3] )\n",
    "print(\" Macro Precision : %5.2f, Recall : %5.2f, F1 : %5.2f\" % precision_recall_fscore_support(y_true, y_pred, average='weighted')[0:3] )"
   ]
  },
  {
   "cell_type": "code",
   "execution_count": 53,
   "metadata": {},
   "outputs": [
    {
     "data": {
      "image/png": "[encoded data removed]",
      "text/plain": [
       "<Figure size 640x480 with 2 Axes>"
      ]
     },
     "metadata": {},
     "output_type": "display_data"
    }
   ],
   "source": [
    "cm = confusion_matrix(y_true, y_pred)\n",
    "\n",
    "ax= plt.subplot()\n",
    "sns.heatmap(cm, annot=True, fmt='g', ax=ax);  #annot=True to annotate cells, ftm='g' to disable scientific notation\n",
    "\n",
    "# labels, title and ticks\n",
    "ax.set_xlabel('Predicted labels');ax.set_ylabel('True labels'); \n",
    "ax.set_title('Confusion Matrix'); \n",
    "ax.xaxis.set_ticklabels(['False', 'True']); ax.yaxis.set_ticklabels(['False', 'True'])"
   ]
  },
  {
   "cell_type": "code",
   "execution_count": null,
   "metadata": {},
   "outputs": [],
   "source": []
  }
 ],
 "metadata": {
  "kernelspec": {
   "display_name": "Python 3",
   "language": "python",
   "name": "python3"
  },
  "language_info": {
   "codemirror_mode": {
    "name": "ipython",
    "version": 3
   },
   "file_extension": ".py",
   "mimetype": "text/x-python",
   "name": "python",
   "nbconvert_exporter": "python",
   "pygments_lexer": "ipython3",
   "version": "3.9.6"
  }
 },
 "nbformat": 4,
 "nbformat_minor": 2
}
