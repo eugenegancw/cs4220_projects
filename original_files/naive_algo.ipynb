{
 "cells": [
  {
   "cell_type": "code",
   "execution_count": 1,
   "metadata": {},
   "outputs": [
    {
     "name": "stderr",
     "output_type": "stream",
     "text": [
      "/var/folders/h7/fr7g30_x5x12d68ww_s6w2_m0000gn/T/ipykernel_91730/435009928.py:1: DeprecationWarning: \n",
      "Pyarrow will become a required dependency of pandas in the next major release of pandas (pandas 3.0),\n",
      "(to allow more performant data types, such as the Arrow string type, and better interoperability with other libraries)\n",
      "but was not found to be installed on your system.\n",
      "If this would cause problems for you,\n",
      "please provide us feedback at https://github.com/pandas-dev/pandas/issues/54466\n",
      "        \n",
      "  import pandas as pd\n"
     ]
    }
   ],
   "source": [
    "import pandas as pd\n",
    "import numpy as np\n",
    "from sklearn.metrics import f1_score"
   ]
  },
  {
   "cell_type": "code",
   "execution_count": 2,
   "metadata": {},
   "outputs": [],
   "source": [
    "curr_folder = 'real2'\n",
    "csv_path = f'/Users/melloo21/Desktop/NUS Items/CS4220/cs4220_projects/data/raw_csv/{curr_folder}_final.csv'\n",
    "bed_path = f'/Users/melloo21/Desktop/NUS Items/CS4220/cs4220_projects/data/{curr_folder}'\n",
    "NUM_TOP = 2\n",
    "algo_dict = {\n",
    "    'mutect2': 'FILTER_Mutect2',\n",
    "    'varscan': 'FILTER_Varscan',\n",
    "    'vardict': 'FILTER_Vardict',\n",
    "    'freebayes': 'FILTER_Freebayes'\n",
    "}"
   ]
  },
  {
   "cell_type": "code",
   "execution_count": 3,
   "metadata": {},
   "outputs": [
    {
     "name": "stderr",
     "output_type": "stream",
     "text": [
      "/var/folders/h7/fr7g30_x5x12d68ww_s6w2_m0000gn/T/ipykernel_91730/3912418589.py:1: DtypeWarning: Columns (23,24,28) have mixed types. Specify dtype option on import or set low_memory=False.\n",
      "  df = pd.read_csv(csv_path, delimiter='\\t')\n"
     ]
    }
   ],
   "source": [
    "df = pd.read_csv(csv_path, delimiter='\\t')\n"
   ]
  },
  {
   "cell_type": "code",
   "execution_count": 4,
   "metadata": {},
   "outputs": [],
   "source": [
    "def get_f1(df, pred_col, true_col):\n",
    "    y_pred = df[pred_col].to_numpy()\n",
    "    y_true = df[true_col].to_numpy()\n",
    "    return f1_score(y_true, y_pred)\n",
    "    \n",
    "def naive_algo_1(df):\n",
    "    df['count_num_true'] = df[algo_dict.values()].sum(axis=1)\n",
    "    df['pred_by_at_least_2'] = df.apply(lambda row: True if row['count_num_true'] > 1 else False, axis=1)\n",
    "    df_to_bed = df[df['pred_by_at_least_2'] == True].reset_index(drop=True)\n",
    "    df_to_bed = df_to_bed[['Chr', 'START_POS_REF', 'END_POS_REF']]\n",
    "    df_to_bed.to_csv(f'{bed_path}/{curr_folder}_naive1.bed', sep='\\t', header=False, index=False)\n",
    "    print(\"\\nF1 output from at least 2 algorithms:\" )\n",
    "    print(get_f1(df, 'pred_by_at_least_2', 'is_snv'))\n",
    "\n",
    "def naive_algo_2(df):\n",
    "    f1_score_dict = {}\n",
    "    for algo, col in algo_dict.items():\n",
    "        f1_score_dict[col] = get_f1(df, col, 'is_snv')\n",
    "\n",
    "    print(\"F1 output from individual algos:\")\n",
    "    print(f1_score_dict)\n",
    "    top_cols = dict(sorted(f1_score_dict.items(), key = lambda x: x[1], reverse = True)[:NUM_TOP])\n",
    "    df['pred_by_top_2'] = df.apply(lambda row: all(row[col] for col in top_cols), axis=1)\n",
    "    df_to_bed = df[df['pred_by_top_2'] == True].reset_index(drop=True)\n",
    "    df_to_bed = df_to_bed[['Chr', 'START_POS_REF', 'END_POS_REF']]\n",
    "    df_to_bed.to_csv(f'{bed_path}/{curr_folder}_naive2.bed', sep='\\t', header=False, index=False)\n",
    "    print(f\"\\nF1 output from top 2 algorithms: {top_cols.keys()}\" )\n",
    "    print(get_f1(df, 'pred_by_top_2', 'is_snv'))\n"
   ]
  },
  {
   "cell_type": "code",
   "execution_count": 5,
   "metadata": {},
   "outputs": [
    {
     "name": "stdout",
     "output_type": "stream",
     "text": [
      "F1 output from individual algos:\n",
      "{'FILTER_Mutect2': 0.2416551724137931, 'FILTER_Varscan': 0.017048188629958067, 'FILTER_Vardict': 0.13489527866524673, 'FILTER_Freebayes': 0.21490467937608318}\n",
      "\n",
      "F1 output from top 2 algorithms: dict_keys(['FILTER_Mutect2', 'FILTER_Freebayes'])\n",
      "0.7969094922737306\n"
     ]
    }
   ],
   "source": [
    "naive_algo_2(df)"
   ]
  },
  {
   "cell_type": "code",
   "execution_count": 6,
   "metadata": {},
   "outputs": [
    {
     "name": "stdout",
     "output_type": "stream",
     "text": [
      "\n",
      "F1 output from at least 2 algorithms:\n",
      "0.3031496062992126\n"
     ]
    }
   ],
   "source": [
    "naive_algo_1(df)"
   ]
  }
 ],
 "metadata": {
  "kernelspec": {
   "display_name": "Python 3",
   "language": "python",
   "name": "python3"
  },
  "language_info": {
   "codemirror_mode": {
    "name": "ipython",
    "version": 3
   },
   "file_extension": ".py",
   "mimetype": "text/x-python",
   "name": "python",
   "nbconvert_exporter": "python",
   "pygments_lexer": "ipython3",
   "version": "3.9.6"
  },
  "orig_nbformat": 4
 },
 "nbformat": 4,
 "nbformat_minor": 2
}
